{
 "cells": [
  {
   "cell_type": "code",
   "execution_count": 2,
   "metadata": {},
   "outputs": [
    {
     "output_type": "stream",
     "name": "stdout",
     "text": "['/home/meowyan/Documents/emotion/method', '/home/meowyan/.vscode/extensions/ms-python.python-2020.4.76186/pythonFiles', '/home/meowyan/.vscode/extensions/ms-python.python-2020.4.76186/pythonFiles/lib/python', '/home/meowyan/anaconda3/envs/emo/lib/python36.zip', '/home/meowyan/anaconda3/envs/emo/lib/python3.6', '/home/meowyan/anaconda3/envs/emo/lib/python3.6/lib-dynload', '', '/home/meowyan/anaconda3/envs/emo/lib/python3.6/site-packages', '/home/meowyan/anaconda3/envs/emo/lib/python3.6/site-packages/IPython/extensions', '/home/meowyan/.ipython', '/home/meowyan/Documents/emotion', '/home/meowyan/Documents/emotion']\n"
    }
   ],
   "source": [
    "import os \n",
    "import sys\n",
    "sys.path.append(os.path.abspath('..'))\n",
    "# print(sys.path)\n",
    "\n",
    "import numpy as np\n",
    "import pandas as pd\n",
    "\n",
    "import util"
   ]
  },
  {
   "cell_type": "code",
   "execution_count": 5,
   "metadata": {},
   "outputs": [],
   "source": [
    "feat_dict = util.load_pickle('../data/feat_dict.pkl') # you might have to change the filename accordingly"
   ]
  },
  {
   "cell_type": "code",
   "execution_count": null,
   "metadata": {},
   "outputs": [],
   "source": []
  }
 ],
 "metadata": {
  "language_info": {
   "codemirror_mode": {
    "name": "ipython",
    "version": 3
   },
   "file_extension": ".py",
   "mimetype": "text/x-python",
   "name": "python",
   "nbconvert_exporter": "python",
   "pygments_lexer": "ipython3",
   "version": "3.6.10-final"
  },
  "orig_nbformat": 2,
  "kernelspec": {
   "name": "python361064bitemocondacee6d4959c414d72846e304804472097",
   "display_name": "Python 3.6.10 64-bit ('emo': conda)"
  }
 },
 "nbformat": 4,
 "nbformat_minor": 2
}